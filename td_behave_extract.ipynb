{
 "cells": [
  {
   "cell_type": "code",
   "execution_count": 7,
   "metadata": {},
   "outputs": [
    {
     "data": {
      "text/plain": [
       "'/Users/goconnell/git/td-scan-working'"
      ]
     },
     "execution_count": 7,
     "metadata": {},
     "output_type": "execute_result"
    }
   ],
   "source": [
    "import os\n",
    "cwd = os.getcwd()\n",
    "cwd"
   ]
  },
  {
   "cell_type": "code",
   "execution_count": 33,
   "metadata": {},
   "outputs": [
    {
     "data": {
      "text/plain": [
       "'/Users/goconnell/git/td-scan-working/td_indiff_converted/tdbehave_subj102_1'"
      ]
     },
     "execution_count": 33,
     "metadata": {},
     "output_type": "execute_result"
    }
   ],
   "source": [
    "import scipy.io\n",
    "import pandas as pd\n",
    "import glob\n",
    "\n",
    "num_indiffs = 5\n",
    "files = []\n",
    "\n",
    "for root, dirs, files in os.walk(os.path.join(cwd, 'td_indiff_converted/')):\n",
    "    for file in files:\n",
    "        if file.startswith('tdbehave'):\n",
    "            files.append(os.path.join(root, file))\n",
    "\n",
    "# if you just want filenames\n",
    "#files = [x for x in os.listdir('./td_indiff_converted/') if x.startswith(\"tdbehave\")]\n",
    "\n",
    "\n",
    "\n",
    "#f = open(['./td_indiff_converted/' files[0]], 'r')\n",
    "#x = f.readlines()\n",
    "#df2 = pd.DataFrame(columns=['subj','1month', '3month', '6month', '12month', '18month'])\n",
    "\n",
    "#os.path.join(cwd, filename)\n",
    "\n",
    "#for i, row in df2.iterrows():\n",
    "asps[2]"
   ]
  },
  {
   "cell_type": "code",
   "execution_count": null,
   "metadata": {
    "collapsed": true
   },
   "outputs": [],
   "source": []
  }
 ],
 "metadata": {
  "kernelspec": {
   "display_name": "Python 3",
   "language": "python",
   "name": "python3"
  },
  "language_info": {
   "codemirror_mode": {
    "name": "ipython",
    "version": 3
   },
   "file_extension": ".py",
   "mimetype": "text/x-python",
   "name": "python",
   "nbconvert_exporter": "python",
   "pygments_lexer": "ipython3",
   "version": "3.6.3"
  }
 },
 "nbformat": 4,
 "nbformat_minor": 2
}
